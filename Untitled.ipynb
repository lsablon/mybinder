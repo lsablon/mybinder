{
 "cells": [
  {
   "cell_type": "code",
   "execution_count": 2,
   "id": "609a3430-c1c8-4710-94c4-9eac17f1afe3",
   "metadata": {},
   "outputs": [
    {
     "data": {
      "application/vnd.webio.node+json": {
       "children": [],
       "instanceArgs": {
        "namespace": "html",
        "tag": "div"
       },
       "nodeType": "DOM",
       "props": {},
       "type": "node"
      },
      "text/html": [
       "<div style=\"padding: 1em; background-color: #f8d6da; border: 1px solid #f5c6cb; font-weight: bold;\">\n",
       "<p>The WebIO Jupyter extension was not detected. See the\n",
       "<a href=\"https://juliagizmos.github.io/WebIO.jl/latest/providers/ijulia/\" target=\"_blank\">\n",
       "    WebIO Jupyter integration documentation\n",
       "</a>\n",
       "for more information.\n",
       "</div>\n"
      ],
      "text/plain": [
       "WebIO._IJuliaInit()"
      ]
     },
     "metadata": {},
     "output_type": "display_data"
    },
    {
     "data": {
      "text/plain": [
       "Plots.PlotlyJSBackend()"
      ]
     },
     "execution_count": 2,
     "metadata": {},
     "output_type": "execute_result"
    }
   ],
   "source": [
    "using HDF5, Plots, Plots.Measures\n",
    "plotlyjs(guidefontsize=12, margin=0.25cm, tickfontsize=10, bg=:lightgrey, fmt=:html)"
   ]
  },
  {
   "cell_type": "code",
   "execution_count": null,
   "id": "7020962e-f2a5-44cf-92a3-267011adbfca",
   "metadata": {},
   "outputs": [],
   "source": [
    "pread = Plots.hdf5plot_read(\"o2_box_plot.hdf5\")\n",
    "display(pread)"
   ]
  },
  {
   "cell_type": "code",
   "execution_count": null,
   "id": "379ed66e-f380-4d92-9c97-3065937aab34",
   "metadata": {},
   "outputs": [],
   "source": []
  }
 ],
 "metadata": {
  "kernelspec": {
   "display_name": "Julia 1.6.5",
   "language": "julia",
   "name": "julia-1.6"
  },
  "language_info": {
   "file_extension": ".jl",
   "mimetype": "application/julia",
   "name": "julia",
   "version": "1.6.5"
  }
 },
 "nbformat": 4,
 "nbformat_minor": 5
}
