{
 "cells": [
  {
   "cell_type": "code",
   "execution_count": null,
   "id": "609a3430-c1c8-4710-94c4-9eac17f1afe3",
   "metadata": {},
   "outputs": [],
   "source": [
    "using HDF5, Plots, Plots.Measures\n",
    "plotlyjs()"
   ]
  },
  {
   "cell_type": "code",
   "execution_count": null,
   "id": "7020962e-f2a5-44cf-92a3-267011adbfca",
   "metadata": {},
   "outputs": [],
   "source": [
    "pread = Plots.hdf5plot_read(\"o2_box_plot.hdf5\")\n",
    "display(pread)"
   ]
  },
  {
   "cell_type": "code",
   "execution_count": null,
   "id": "379ed66e-f380-4d92-9c97-3065937aab34",
   "metadata": {},
   "outputs": [],
   "source": []
  }
 ],
 "metadata": {
  "@webio": {
   "lastCommId": "6d20cd21-7c96-4e8d-aacd-48e43dad10ea",
   "lastKernelId": "754bab2c-b159-422f-a866-1a4abd66ec44"
  },
  "kernelspec": {
   "display_name": "Julia 1.6.5",
   "language": "julia",
   "name": "julia-1.6"
  },
  "language_info": {
   "file_extension": ".jl",
   "mimetype": "application/julia",
   "name": "julia",
   "version": "1.6.5"
  }
 },
 "nbformat": 4,
 "nbformat_minor": 5
}
